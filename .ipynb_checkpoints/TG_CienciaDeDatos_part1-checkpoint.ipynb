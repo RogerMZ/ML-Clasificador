{
 "cells": [
  {
   "cell_type": "code",
   "execution_count": null,
   "metadata": {},
   "outputs": [],
   "source": [
    "from sklearn import datasets, svm, metrics\n",
    "import matplotlib.pyplot as plt\n",
    "import datetime as dt\n",
    "\n",
    "X, y = datasets.fetch_openml('mnist_784', version=1, return_X_y=True)\n",
    "\n",
    "X = X.to_numpy()\n",
    "y = y.to_numpy()\n",
    "\n",
    "# show test data\n",
    "muestra = True\n",
    "\n",
    "if muestra:\n",
    "    #print(len(X[0]))\n",
    "    #print(X[0])\n",
    "    im = X[0].reshape(28,28)\n",
    "    print(im.shape)\n",
    "    plt.imshow(im, cmap='gray', vmin=0, vmax=255)\n",
    "    plt.show()\n",
    "\n",
    "print(\"DataSet count:\", len(X))\n",
    "nMuestras = 10\n",
    "plt.figure(figsize=(nMuestras, 5))\n",
    "for i in range(nMuestras):\n",
    "    im = X[i].reshape(28,28)\n",
    "    l1_plot = plt.subplot(nMuestras/5, 5, i + 1)\n",
    "    l1_plot.imshow(im, cmap='gray', vmin=0, vmax=255)\n",
    "    l1_plot.set_xlabel('y = %i' % int(y[i]))\n"
   ]
  },
  {
   "cell_type": "code",
   "execution_count": null,
   "metadata": {},
   "outputs": [],
   "source": [
    "print(type(X))\n",
    "print('Tamaño:', len(X))"
   ]
  },
  {
   "cell_type": "code",
   "execution_count": null,
   "metadata": {},
   "outputs": [],
   "source": [
    "#---------------- classification begins -----------------\n",
    "# scale data for [0,255] -> [0,1]\n",
    "# sample smaller size for testing\n",
    "# full dataset classification\n",
    "X_data = X/255.0\n",
    "Y = y\n",
    "\n",
    "# split data to train and test\n",
    "# from sklearn.cross_validation import train_test_split\n",
    "from sklearn.model_selection import train_test_split\n",
    "X_train, X_test, y_train, y_test = train_test_split(X_data, Y, test_size=0.2, random_state=42)\n"
   ]
  },
  {
   "cell_type": "code",
   "execution_count": null,
   "metadata": {},
   "outputs": [],
   "source": [
    "################ Classifier with good params ###########\n",
    "# Create a classifier: a support vector classifier\n",
    "# https://scikit-learn.org/stable/modules/generated/sklearn.svm.SVC.html\n",
    "\n",
    "param_C = 5 # Regularization parameter\n",
    "param_gamma = 0.05 # Kernel coefficient\n",
    "classifier = svm.SVC(C=param_C,gamma=param_gamma)\n",
    "\n",
    "# We learn the digits on train part\n",
    "start_time = dt.datetime.now()\n",
    "print('Start learning at {}'.format(str(start_time)))\n",
    "classifier.fit(X_train, y_train)\n",
    "end_time = dt.datetime.now() \n",
    "print('Stop learning {}'.format(str(end_time)))\n",
    "elapsed_time= end_time - start_time\n",
    "print('Elapsed learning {}'.format(str(elapsed_time)))"
   ]
  },
  {
   "cell_type": "code",
   "execution_count": null,
   "metadata": {},
   "outputs": [],
   "source": [
    "########################################################\n",
    "# Now predict the value of the test\n",
    "expected = y_test\n",
    "predicted = classifier.predict(X_test)\n",
    "\n",
    "print(\"Classification report for classifier %s:\\n%s\\n\"\n",
    "      % (classifier, metrics.classification_report(expected, predicted)))\n",
    "      \n",
    "#plot_confusion_matrix\n",
    "disp = metrics.plot_confusion_matrix(classifier, X_test, y_test)\n",
    "disp.figure_.suptitle(\"Confusion Matrix\")\n",
    "print(\"Confusion matrix:\\n%s\" % disp.confusion_matrix)\n",
    "plt.show()\n",
    "\n",
    "print(\"Validación: %d muestras\"% len(y_test))\n",
    "print(\"Accuracy={}\".format(metrics.accuracy_score(expected, predicted)))\n",
    "#print(\"Val_acc: %.3f\"% classifier.score(X_test, y_test))\n",
    "print(\"\")"
   ]
  },
  {
   "cell_type": "code",
   "execution_count": null,
   "metadata": {},
   "outputs": [],
   "source": [
    "from joblib import dump\n",
    "\n",
    "dump(classifier, 'modelo_mnist_svm.joblib')"
   ]
  },
  {
   "cell_type": "markdown",
   "metadata": {},
   "source": [
    "## Referencias\n",
    "\n",
    "El presente trabajo se baso fundamental en los siguientes trabajos:\n",
    "\n",
    "  1. GitHub: [ksopyla/svm_mnist_digit_classification](https://github.com/ksopyla/svm_mnist_digit_classification).\n",
    "  2. Scikit-learn: [Recognizing hand-written digits](https://scikit-learn.org/stable/auto_examples/classification/plot_digits_classification.html).\n",
    "  3. Scikit-learn: [MNIST classification using multinomial logistic + L1](https://scikit-learn.org/stable/auto_examples/linear_model/plot_sparse_logistic_regression_mnist.html)."
   ]
  }
 ],
 "metadata": {
  "kernelspec": {
   "display_name": "Python 3",
   "language": "python",
   "name": "python3"
  },
  "language_info": {
   "codemirror_mode": {
    "name": "ipython",
    "version": 3
   },
   "file_extension": ".py",
   "mimetype": "text/x-python",
   "name": "python",
   "nbconvert_exporter": "python",
   "pygments_lexer": "ipython3",
   "version": "3.6.13"
  }
 },
 "nbformat": 4,
 "nbformat_minor": 4
}
