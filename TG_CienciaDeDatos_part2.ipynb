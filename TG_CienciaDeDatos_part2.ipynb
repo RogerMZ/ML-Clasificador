{
 "cells": [
  {
   "cell_type": "code",
   "execution_count": null,
   "metadata": {},
   "outputs": [],
   "source": [
    "# Loading a model stored in a file\n",
    "from joblib import load\n",
    "\n",
    "svm_class = load('modelo_mnist_svm.joblib')\n",
    "print(svm_class)"
   ]
  },
  {
   "cell_type": "markdown",
   "metadata": {},
   "source": [
    "Se creo el set nuevo de 50 elementos, 5 por cada digito para ello se creo un programa: https://editor.p5js.org/RogerMZ/sketches/RhdAkvJDG"
   ]
  },
  {
   "cell_type": "code",
   "execution_count": null,
   "metadata": {},
   "outputs": [],
   "source": [
    "import numpy as np\n",
    "from PIL import Image\n",
    "\n",
    "#np.set_printoptions(threshold=np.inf)\n",
    "\n",
    "def load_images_to_data(image_label, image_directory):\n",
    "    features_data = []\n",
    "    label_data = []\n",
    "    list_of_files = os.listdir(image_directory)\n",
    "    for file in list_of_files:\n",
    "        image_file_name = os.path.join(image_directory, file)\n",
    "        if \".jpg\" in image_file_name:\n",
    "            img = Image.open(image_file_name).convert(\"L\")\n",
    "            img = img.resize((28,28))\n",
    "            data = np.asarray(img)\n",
    "            dataArray = np.concatenate(data)\n",
    "            features_data.append(dataArray)\n",
    "            label_data = np.append(label_data, [image_label], axis=0)\n",
    "    return features_data, label_data"
   ]
  },
  {
   "cell_type": "code",
   "execution_count": null,
   "metadata": {},
   "outputs": [],
   "source": [
    "# Read images to set test array (X, Y)\n",
    "import os\n",
    "PATH = 'Digitos/'\n",
    "\n",
    "X_test = []\n",
    "y_test = []\n",
    "\n",
    "for x in sorted(os.listdir(PATH)):\n",
    "    if not x.startswith('.'):\n",
    "        print(PATH+x)\n",
    "        conv = load_images_to_data(x, PATH+x)\n",
    "        X_test.extend(conv[0])\n",
    "        y_test = np.append(y_test, conv[1], axis=0)\n",
    "        \n",
    "y_test = y_test.astype('int8') # Cast de string a float"
   ]
  },
  {
   "cell_type": "code",
   "execution_count": null,
   "metadata": {},
   "outputs": [],
   "source": [
    "import matplotlib.pyplot as plt\n",
    "\n",
    "print(\"DataSet count:\", len(X_test))\n",
    "nMuestras = 25\n",
    "plt.figure(figsize=(nMuestras, 5))\n",
    "for i in range(nMuestras):\n",
    "    im = X_test[i].reshape(28,28)\n",
    "    l1_plot = plt.subplot(nMuestras/5, 5, i + 1)\n",
    "    l1_plot.imshow(im, cmap='gray', vmin=0, vmax=255)\n",
    "    l1_plot.set_xlabel('y = %i' % int(y_test[i]))"
   ]
  },
  {
   "cell_type": "code",
   "execution_count": null,
   "metadata": {},
   "outputs": [],
   "source": [
    "randoms = np.random.choice(len(X_test), 10, replace=False)\n",
    "print(\"Índices de datos de prueba:\", randoms)\n",
    "\n",
    "X_test_prepared = np.array(X_test)/255.0\n",
    "\n",
    "x_samples = X_test_prepared[randoms]\n",
    "y_hat = svm_class.predict(x_samples).astype('int8')\n",
    "y = np.array(y_test)\n",
    "\n",
    "for i, index in enumerate(randoms):\n",
    "    print(\"Valor: \", y[index])\n",
    "    print(\"Predicción: %.3f\"% y_hat[i])\n",
    "    print()"
   ]
  },
  {
   "cell_type": "code",
   "execution_count": null,
   "metadata": {},
   "outputs": [],
   "source": [
    "from sklearn import metrics\n",
    "import matplotlib.pyplot as plt\n",
    "\n",
    "X_test = np.array(X_test)/255.0\n",
    "\n",
    "#plot_confusion_matrix\n",
    "print()\n",
    "disp = metrics.plot_confusion_matrix(svm_class, X_test, y.astype('str'))\n",
    "disp.figure_.suptitle(\"Confusion Matrix\")\n",
    "print(\"Confusion matrix:\\n%s\" % disp.confusion_matrix)\n",
    "plt.show()"
   ]
  }
 ],
 "metadata": {
  "kernelspec": {
   "display_name": "Python 3",
   "language": "python",
   "name": "python3"
  },
  "language_info": {
   "codemirror_mode": {
    "name": "ipython",
    "version": 3
   },
   "file_extension": ".py",
   "mimetype": "text/x-python",
   "name": "python",
   "nbconvert_exporter": "python",
   "pygments_lexer": "ipython3",
   "version": "3.6.13"
  }
 },
 "nbformat": 4,
 "nbformat_minor": 4
}
